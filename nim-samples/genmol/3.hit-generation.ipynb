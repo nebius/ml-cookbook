{
 "cells": [
  {
   "cell_type": "markdown",
   "id": "d910f044-183a-451e-a198-4abbe85b1281",
   "metadata": {},
   "source": [
    "# Hit-Generation by Fragment-Based Molecular Optimization"
   ]
  },
  {
   "cell_type": "code",
   "execution_count": null,
   "id": "ee87795c-4959-4e7d-b4c2-7d687b3d4429",
   "metadata": {},
   "outputs": [],
   "source": [
    "from optimizer import MolecularOptimizer\n",
    "from library import Library\n",
    "from genmol import GenMol_Generator\n",
    "from oracle import Oracle\n",
    "\n",
    "import pandas as pd"
   ]
  },
  {
   "cell_type": "markdown",
   "id": "3c0f2742-2a3b-44eb-b38c-26d54fa3bab0",
   "metadata": {},
   "source": [
    "## Library"
   ]
  },
  {
   "cell_type": "markdown",
   "id": "4551fd9b-0eba-4bc3-a315-81eb0e1b79f6",
   "metadata": {},
   "source": [
    "#### Read molecular library of FDA-approved drugs with 20~30 heavy atoms "
   ]
  },
  {
   "cell_type": "code",
   "execution_count": null,
   "id": "c655bf8e-4b2e-4a27-a35c-e34172f9b28c",
   "metadata": {},
   "outputs": [],
   "source": [
    "mol_library = pd.read_csv('./fda_drugs.csv')\n",
    "mol_library"
   ]
  },
  {
   "cell_type": "markdown",
   "id": "d9e01ad0-bc55-427b-9ad2-af5f935631b6",
   "metadata": {},
   "source": [
    "#### Initiate fragment library from known molecules"
   ]
  },
  {
   "cell_type": "code",
   "execution_count": null,
   "id": "e3f3fab8-8092-4e99-9509-af901696c273",
   "metadata": {},
   "outputs": [],
   "source": [
    "library = Library(max_fragments = 1000)"
   ]
  },
  {
   "cell_type": "code",
   "execution_count": null,
   "id": "5d20ec22-7db7-43e6-9c3c-62e31270b2ca",
   "metadata": {},
   "outputs": [],
   "source": [
    "molecules = {r['Smiles']:r['QED Weighted'] for idx, r in mol_library.iterrows()}\n",
    "library.update(molecules)"
   ]
  },
  {
   "cell_type": "code",
   "execution_count": null,
   "id": "dcef4906-909c-4727-97d4-851284bf309b",
   "metadata": {},
   "outputs": [],
   "source": [
    "library.fragments"
   ]
  },
  {
   "cell_type": "code",
   "execution_count": null,
   "id": "4c66fdae-2707-4f4d-ab3a-1d9269e06d98",
   "metadata": {},
   "outputs": [],
   "source": [
    "library.export(2)"
   ]
  },
  {
   "cell_type": "markdown",
   "id": "ccdf111b-31c8-4296-93a3-d0892518efff",
   "metadata": {},
   "source": [
    "## Oracle"
   ]
  },
  {
   "cell_type": "code",
   "execution_count": null,
   "id": "359b7860-8dd6-4d3b-9e68-8a2f32e5fd47",
   "metadata": {},
   "outputs": [],
   "source": [
    "oracle = Oracle(score = Oracle.RDKitScore('QED'))"
   ]
  },
  {
   "cell_type": "code",
   "execution_count": null,
   "id": "39c0266a-0163-4c0b-9263-697ad20eb8fa",
   "metadata": {},
   "outputs": [],
   "source": [
    "oracle.evaluate(['CCS(=O)(=O)N1CC(CC#N)(C2CCOCC2C)C1'])"
   ]
  },
  {
   "cell_type": "markdown",
   "id": "12d5c40f-b47d-4b71-b9e4-1741378fc522",
   "metadata": {},
   "source": [
    "## Generator"
   ]
  },
  {
   "cell_type": "code",
   "execution_count": null,
   "id": "5a197114-c920-46a4-8b8e-5982f83eb782",
   "metadata": {},
   "outputs": [],
   "source": [
    "generator = GenMol_Generator(invoke_url = 'http://127.0.0.1:8000/generate')"
   ]
  },
  {
   "cell_type": "code",
   "execution_count": null,
   "id": "9df1a461-9aa2-4618-81be-3bf2483f9e8e",
   "metadata": {},
   "outputs": [],
   "source": [
    "generator.inference(\n",
    "    smiles = 'CCS2(=O)(=O).C134CN2C1.C3C#N.[*{10-10}]',\n",
    "    num_molecules = 5,\n",
    "    temperature = 1.5,\n",
    "    noise = 2.0\n",
    ")"
   ]
  },
  {
   "cell_type": "code",
   "execution_count": null,
   "id": "1d004960-af84-44d8-85f1-a81d39fb9c53",
   "metadata": {},
   "outputs": [],
   "source": [
    "generator.produce(['CC(NC(=O)C(=O)Nc1ccc(F)c(F)c1F)C(F)COc1cc(CNC(=O)NCc2cccnc2)ccn1'], 1)"
   ]
  },
  {
   "cell_type": "markdown",
   "id": "37bc7914-c0be-416e-b879-3e70ae8bdf16",
   "metadata": {},
   "source": [
    "## Optimizer"
   ]
  },
  {
   "cell_type": "code",
   "execution_count": null,
   "id": "3d7b66a7-c353-4691-a583-13ca230e88d7",
   "metadata": {},
   "outputs": [],
   "source": [
    "optimizer = MolecularOptimizer(library = library, oracle = oracle, generator = generator)"
   ]
  },
  {
   "cell_type": "code",
   "execution_count": null,
   "id": "2a7532cc-d1e5-45bf-a950-897a4d62826f",
   "metadata": {},
   "outputs": [],
   "source": [
    "data = []\n",
    "\n",
    "def eval():\n",
    "    best = library.molecules.score[0]\n",
    "    mean = library.molecules.head(50)['score'].mean()\n",
    "    std = library.molecules.head(50)['score'].std()\n",
    "    print(\"BEST\", best, \"MEAN\", mean, \"STD\", std)\n",
    "    data.append([best, mean, std])\n",
    "\n",
    "eval()\n",
    "\n",
    "for i in range(25):\n",
    "    optimizer.run(iterations = 10, num_mutate = 50)\n",
    "    eval()"
   ]
  },
  {
   "cell_type": "code",
   "execution_count": null,
   "id": "f28139d3-aaa7-45fc-9c30-a57e48f9a86e",
   "metadata": {},
   "outputs": [],
   "source": [
    "import pandas as pd\n",
    "import matplotlib.pyplot as plt\n",
    "\n",
    "df = pd.DataFrame(data, columns = ['best', 'mean', 'std'])\n",
    "\n",
    "plt.fill_between(df.index, df['mean']-df['std'], df['mean'] + df['std'], alpha=0.4)\n",
    "plt.plot(df['mean'])\n",
    "plt.plot(df['best'])"
   ]
  }
 ],
 "metadata": {
  "kernelspec": {
   "display_name": "Python 3 (ipykernel)",
   "language": "python",
   "name": "python3"
  },
  "language_info": {
   "codemirror_mode": {
    "name": "ipython",
    "version": 3
   },
   "file_extension": ".py",
   "mimetype": "text/x-python",
   "name": "python",
   "nbconvert_exporter": "python",
   "pygments_lexer": "ipython3",
   "version": "3.13.5"
  }
 },
 "nbformat": 4,
 "nbformat_minor": 5
}
