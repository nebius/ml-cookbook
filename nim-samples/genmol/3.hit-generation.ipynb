{
 "cells": [
  {
   "cell_type": "markdown",
   "id": "d910f044-183a-451e-a198-4abbe85b1281",
   "metadata": {},
   "source": [
    "# Hit-Generation by Fragment-Based Molecular Optimization"
   ]
  },
  {
   "cell_type": "code",
   "execution_count": 1,
   "id": "ee87795c-4959-4e7d-b4c2-7d687b3d4429",
   "metadata": {},
   "outputs": [],
   "source": [
    "from optimizer import MolecularOptimizer\n",
    "from library import Library\n",
    "from genmol import GenMol_Generator\n",
    "from oracle import Oracle\n",
    "\n",
    "import pandas as pd"
   ]
  },
  {
   "cell_type": "markdown",
   "id": "3c0f2742-2a3b-44eb-b38c-26d54fa3bab0",
   "metadata": {},
   "source": [
    "## Library"
   ]
  },
  {
   "cell_type": "markdown",
   "id": "4551fd9b-0eba-4bc3-a315-81eb0e1b79f6",
   "metadata": {},
   "source": [
    "#### Read molecular library of FDA-approved drugs with 20~30 heavy atoms "
   ]
  },
  {
   "cell_type": "code",
   "execution_count": 2,
   "id": "c655bf8e-4b2e-4a27-a35c-e34172f9b28c",
   "metadata": {},
   "outputs": [
    {
     "data": {
      "text/html": [
       "<div>\n",
       "<style scoped>\n",
       "    .dataframe tbody tr th:only-of-type {\n",
       "        vertical-align: middle;\n",
       "    }\n",
       "\n",
       "    .dataframe tbody tr th {\n",
       "        vertical-align: top;\n",
       "    }\n",
       "\n",
       "    .dataframe thead th {\n",
       "        text-align: right;\n",
       "    }\n",
       "</style>\n",
       "<table border=\"1\" class=\"dataframe\">\n",
       "  <thead>\n",
       "    <tr style=\"text-align: right;\">\n",
       "      <th></th>\n",
       "      <th>Unnamed: 0</th>\n",
       "      <th>ChEMBL ID</th>\n",
       "      <th>Name</th>\n",
       "      <th>Smiles</th>\n",
       "      <th>Molecular Weight</th>\n",
       "      <th>Bioactivities</th>\n",
       "      <th>AlogP</th>\n",
       "      <th>Polar Surface Area</th>\n",
       "      <th>HBA</th>\n",
       "      <th>HBD</th>\n",
       "      <th>QED Weighted</th>\n",
       "      <th>Heavy Atoms</th>\n",
       "      <th>Aromatic Rings</th>\n",
       "      <th>Np Likeness Score</th>\n",
       "    </tr>\n",
       "  </thead>\n",
       "  <tbody>\n",
       "    <tr>\n",
       "      <th>0</th>\n",
       "      <td>1</td>\n",
       "      <td>CHEMBL1200385</td>\n",
       "      <td>ARBUTAMINE HYDROCHLORIDE</td>\n",
       "      <td>Cl.Oc1ccc(CCCCNC[C@H](O)c2ccc(O)c(O)c2)cc1</td>\n",
       "      <td>353.85</td>\n",
       "      <td>NaN</td>\n",
       "      <td>2.45</td>\n",
       "      <td>92.95</td>\n",
       "      <td>5</td>\n",
       "      <td>5</td>\n",
       "      <td>0.38</td>\n",
       "      <td>23</td>\n",
       "      <td>2</td>\n",
       "      <td>0.46</td>\n",
       "    </tr>\n",
       "    <tr>\n",
       "      <th>1</th>\n",
       "      <td>2</td>\n",
       "      <td>CHEMBL27810</td>\n",
       "      <td>CELIPROLOL</td>\n",
       "      <td>CCN(CC)C(=O)Nc1ccc(OCC(O)CNC(C)(C)C)c(C(C)=O)c1</td>\n",
       "      <td>379.50</td>\n",
       "      <td>94.0</td>\n",
       "      <td>2.89</td>\n",
       "      <td>90.90</td>\n",
       "      <td>5</td>\n",
       "      <td>3</td>\n",
       "      <td>0.57</td>\n",
       "      <td>27</td>\n",
       "      <td>1</td>\n",
       "      <td>-1.22</td>\n",
       "    </tr>\n",
       "    <tr>\n",
       "      <th>2</th>\n",
       "      <td>5</td>\n",
       "      <td>CHEMBL1204187</td>\n",
       "      <td>GEPIRONE HYDROCHLORIDE</td>\n",
       "      <td>CC1(C)CC(=O)N(CCCCN2CCN(c3ncccn3)CC2)C(=O)C1.Cl</td>\n",
       "      <td>395.94</td>\n",
       "      <td>9.0</td>\n",
       "      <td>1.55</td>\n",
       "      <td>69.64</td>\n",
       "      <td>6</td>\n",
       "      <td>0</td>\n",
       "      <td>0.57</td>\n",
       "      <td>26</td>\n",
       "      <td>1</td>\n",
       "      <td>-1.31</td>\n",
       "    </tr>\n",
       "    <tr>\n",
       "      <th>3</th>\n",
       "      <td>7</td>\n",
       "      <td>CHEMBL1200464</td>\n",
       "      <td>PROPARACAINE HYDROCHLORIDE</td>\n",
       "      <td>CCCOc1ccc(C(=O)OCCN(CC)CC)cc1N.Cl</td>\n",
       "      <td>330.86</td>\n",
       "      <td>26.0</td>\n",
       "      <td>2.56</td>\n",
       "      <td>64.79</td>\n",
       "      <td>5</td>\n",
       "      <td>1</td>\n",
       "      <td>0.56</td>\n",
       "      <td>21</td>\n",
       "      <td>1</td>\n",
       "      <td>-0.94</td>\n",
       "    </tr>\n",
       "    <tr>\n",
       "      <th>4</th>\n",
       "      <td>9</td>\n",
       "      <td>CHEMBL2104771</td>\n",
       "      <td>REPROTEROL HYDROCHLORIDE</td>\n",
       "      <td>Cl.Cn1c(=O)c2c(ncn2CCCNCC(O)c2cc(O)cc(O)c2)n(C...</td>\n",
       "      <td>425.87</td>\n",
       "      <td>NaN</td>\n",
       "      <td>-0.44</td>\n",
       "      <td>134.54</td>\n",
       "      <td>10</td>\n",
       "      <td>4</td>\n",
       "      <td>0.40</td>\n",
       "      <td>28</td>\n",
       "      <td>3</td>\n",
       "      <td>-0.60</td>\n",
       "    </tr>\n",
       "    <tr>\n",
       "      <th>...</th>\n",
       "      <td>...</td>\n",
       "      <td>...</td>\n",
       "      <td>...</td>\n",
       "      <td>...</td>\n",
       "      <td>...</td>\n",
       "      <td>...</td>\n",
       "      <td>...</td>\n",
       "      <td>...</td>\n",
       "      <td>...</td>\n",
       "      <td>...</td>\n",
       "      <td>...</td>\n",
       "      <td>...</td>\n",
       "      <td>...</td>\n",
       "      <td>...</td>\n",
       "    </tr>\n",
       "    <tr>\n",
       "      <th>323</th>\n",
       "      <td>948</td>\n",
       "      <td>CHEMBL1237</td>\n",
       "      <td>LISINOPRIL ANHYDROUS</td>\n",
       "      <td>NCCCC[C@H](N[C@@H](CCc1ccccc1)C(=O)O)C(=O)N1CC...</td>\n",
       "      <td>405.50</td>\n",
       "      <td>863.0</td>\n",
       "      <td>1.24</td>\n",
       "      <td>132.96</td>\n",
       "      <td>5</td>\n",
       "      <td>4</td>\n",
       "      <td>0.38</td>\n",
       "      <td>29</td>\n",
       "      <td>1</td>\n",
       "      <td>0.20</td>\n",
       "    </tr>\n",
       "    <tr>\n",
       "      <th>324</th>\n",
       "      <td>951</td>\n",
       "      <td>CHEMBL1477036</td>\n",
       "      <td>DOCUSATE</td>\n",
       "      <td>CCCCC(CC)COC(=O)CC(C(=O)OCC(CC)CCCC)S(=O)(=O)O</td>\n",
       "      <td>422.58</td>\n",
       "      <td>41.0</td>\n",
       "      <td>4.15</td>\n",
       "      <td>106.97</td>\n",
       "      <td>6</td>\n",
       "      <td>1</td>\n",
       "      <td>0.29</td>\n",
       "      <td>28</td>\n",
       "      <td>0</td>\n",
       "      <td>0.50</td>\n",
       "    </tr>\n",
       "    <tr>\n",
       "      <th>325</th>\n",
       "      <td>954</td>\n",
       "      <td>CHEMBL77622</td>\n",
       "      <td>DOPEXAMINE</td>\n",
       "      <td>Oc1ccc(CCNCCCCCCNCCc2ccccc2)cc1O</td>\n",
       "      <td>356.51</td>\n",
       "      <td>89.0</td>\n",
       "      <td>3.62</td>\n",
       "      <td>64.52</td>\n",
       "      <td>4</td>\n",
       "      <td>4</td>\n",
       "      <td>0.33</td>\n",
       "      <td>26</td>\n",
       "      <td>2</td>\n",
       "      <td>0.23</td>\n",
       "    </tr>\n",
       "    <tr>\n",
       "      <th>326</th>\n",
       "      <td>956</td>\n",
       "      <td>CHEMBL5315049</td>\n",
       "      <td>SITAGLIPTIN FUMARATE</td>\n",
       "      <td>N[C@@H](CC(=O)N1CCn2c(nnc2C(F)(F)F)C1)Cc1cc(F)...</td>\n",
       "      <td>523.39</td>\n",
       "      <td>NaN</td>\n",
       "      <td>2.02</td>\n",
       "      <td>77.04</td>\n",
       "      <td>5</td>\n",
       "      <td>1</td>\n",
       "      <td>0.62</td>\n",
       "      <td>28</td>\n",
       "      <td>2</td>\n",
       "      <td>-1.40</td>\n",
       "    </tr>\n",
       "    <tr>\n",
       "      <th>327</th>\n",
       "      <td>958</td>\n",
       "      <td>CHEMBL926</td>\n",
       "      <td>DOBUTAMINE</td>\n",
       "      <td>CC(CCc1ccc(O)cc1)NCCc1ccc(O)c(O)c1</td>\n",
       "      <td>301.39</td>\n",
       "      <td>1316.0</td>\n",
       "      <td>2.96</td>\n",
       "      <td>72.72</td>\n",
       "      <td>4</td>\n",
       "      <td>4</td>\n",
       "      <td>0.59</td>\n",
       "      <td>22</td>\n",
       "      <td>2</td>\n",
       "      <td>0.39</td>\n",
       "    </tr>\n",
       "  </tbody>\n",
       "</table>\n",
       "<p>328 rows × 14 columns</p>\n",
       "</div>"
      ],
      "text/plain": [
       "     Unnamed: 0      ChEMBL ID                        Name  \\\n",
       "0             1  CHEMBL1200385    ARBUTAMINE HYDROCHLORIDE   \n",
       "1             2    CHEMBL27810                  CELIPROLOL   \n",
       "2             5  CHEMBL1204187      GEPIRONE HYDROCHLORIDE   \n",
       "3             7  CHEMBL1200464  PROPARACAINE HYDROCHLORIDE   \n",
       "4             9  CHEMBL2104771    REPROTEROL HYDROCHLORIDE   \n",
       "..          ...            ...                         ...   \n",
       "323         948     CHEMBL1237        LISINOPRIL ANHYDROUS   \n",
       "324         951  CHEMBL1477036                    DOCUSATE   \n",
       "325         954    CHEMBL77622                  DOPEXAMINE   \n",
       "326         956  CHEMBL5315049        SITAGLIPTIN FUMARATE   \n",
       "327         958      CHEMBL926                  DOBUTAMINE   \n",
       "\n",
       "                                                Smiles  Molecular Weight  \\\n",
       "0           Cl.Oc1ccc(CCCCNC[C@H](O)c2ccc(O)c(O)c2)cc1            353.85   \n",
       "1      CCN(CC)C(=O)Nc1ccc(OCC(O)CNC(C)(C)C)c(C(C)=O)c1            379.50   \n",
       "2      CC1(C)CC(=O)N(CCCCN2CCN(c3ncccn3)CC2)C(=O)C1.Cl            395.94   \n",
       "3                    CCCOc1ccc(C(=O)OCCN(CC)CC)cc1N.Cl            330.86   \n",
       "4    Cl.Cn1c(=O)c2c(ncn2CCCNCC(O)c2cc(O)cc(O)c2)n(C...            425.87   \n",
       "..                                                 ...               ...   \n",
       "323  NCCCC[C@H](N[C@@H](CCc1ccccc1)C(=O)O)C(=O)N1CC...            405.50   \n",
       "324     CCCCC(CC)COC(=O)CC(C(=O)OCC(CC)CCCC)S(=O)(=O)O            422.58   \n",
       "325                   Oc1ccc(CCNCCCCCCNCCc2ccccc2)cc1O            356.51   \n",
       "326  N[C@@H](CC(=O)N1CCn2c(nnc2C(F)(F)F)C1)Cc1cc(F)...            523.39   \n",
       "327                 CC(CCc1ccc(O)cc1)NCCc1ccc(O)c(O)c1            301.39   \n",
       "\n",
       "     Bioactivities  AlogP  Polar Surface Area  HBA  HBD  QED Weighted  \\\n",
       "0              NaN   2.45               92.95    5    5          0.38   \n",
       "1             94.0   2.89               90.90    5    3          0.57   \n",
       "2              9.0   1.55               69.64    6    0          0.57   \n",
       "3             26.0   2.56               64.79    5    1          0.56   \n",
       "4              NaN  -0.44              134.54   10    4          0.40   \n",
       "..             ...    ...                 ...  ...  ...           ...   \n",
       "323          863.0   1.24              132.96    5    4          0.38   \n",
       "324           41.0   4.15              106.97    6    1          0.29   \n",
       "325           89.0   3.62               64.52    4    4          0.33   \n",
       "326            NaN   2.02               77.04    5    1          0.62   \n",
       "327         1316.0   2.96               72.72    4    4          0.59   \n",
       "\n",
       "     Heavy Atoms  Aromatic Rings  Np Likeness Score  \n",
       "0             23               2               0.46  \n",
       "1             27               1              -1.22  \n",
       "2             26               1              -1.31  \n",
       "3             21               1              -0.94  \n",
       "4             28               3              -0.60  \n",
       "..           ...             ...                ...  \n",
       "323           29               1               0.20  \n",
       "324           28               0               0.50  \n",
       "325           26               2               0.23  \n",
       "326           28               2              -1.40  \n",
       "327           22               2               0.39  \n",
       "\n",
       "[328 rows x 14 columns]"
      ]
     },
     "execution_count": 2,
     "metadata": {},
     "output_type": "execute_result"
    }
   ],
   "source": [
    "mol_library = pd.read_csv('./fda_drugs.csv')\n",
    "mol_library"
   ]
  },
  {
   "cell_type": "markdown",
   "id": "d9e01ad0-bc55-427b-9ad2-af5f935631b6",
   "metadata": {},
   "source": [
    "#### Initiate fragment library from known molecules"
   ]
  },
  {
   "cell_type": "code",
   "execution_count": 3,
   "id": "e3f3fab8-8092-4e99-9509-af901696c273",
   "metadata": {},
   "outputs": [],
   "source": [
    "library = Library(max_fragments = 1000)"
   ]
  },
  {
   "cell_type": "code",
   "execution_count": 4,
   "id": "5d20ec22-7db7-43e6-9c3c-62e31270b2ca",
   "metadata": {},
   "outputs": [],
   "source": [
    "molecules = {r['Smiles']:r['QED Weighted'] for idx, r in mol_library.iterrows()}\n",
    "library.update(molecules)"
   ]
  },
  {
   "cell_type": "code",
   "execution_count": 5,
   "id": "dcef4906-909c-4727-97d4-851284bf309b",
   "metadata": {},
   "outputs": [
    {
     "data": {
      "text/html": [
       "<div>\n",
       "<style scoped>\n",
       "    .dataframe tbody tr th:only-of-type {\n",
       "        vertical-align: middle;\n",
       "    }\n",
       "\n",
       "    .dataframe tbody tr th {\n",
       "        vertical-align: top;\n",
       "    }\n",
       "\n",
       "    .dataframe thead th {\n",
       "        text-align: right;\n",
       "    }\n",
       "</style>\n",
       "<table border=\"1\" class=\"dataframe\">\n",
       "  <thead>\n",
       "    <tr style=\"text-align: right;\">\n",
       "      <th></th>\n",
       "      <th>smiles</th>\n",
       "      <th>score</th>\n",
       "    </tr>\n",
       "  </thead>\n",
       "  <tbody>\n",
       "    <tr>\n",
       "      <th>0</th>\n",
       "      <td>[1*]c1ccc(C[C@H](C)[C@H](C)Cc2ccc(O)c(O)c2)cc1O</td>\n",
       "      <td>0.64</td>\n",
       "    </tr>\n",
       "    <tr>\n",
       "      <th>1</th>\n",
       "      <td>[1*]c1ccc(C[C@@H](C)[C@@H](C)Cc2ccc(O)c(O)c2)cc1O</td>\n",
       "      <td>0.64</td>\n",
       "    </tr>\n",
       "    <tr>\n",
       "      <th>2</th>\n",
       "      <td>[1*]O</td>\n",
       "      <td>0.64</td>\n",
       "    </tr>\n",
       "    <tr>\n",
       "      <th>3</th>\n",
       "      <td>[1*]c1ccc(O)c(O)c1</td>\n",
       "      <td>0.64</td>\n",
       "    </tr>\n",
       "    <tr>\n",
       "      <th>4</th>\n",
       "      <td>[1*]C[C@H](C)[C@H](C)Cc1ccc(O)c(O)c1</td>\n",
       "      <td>0.64</td>\n",
       "    </tr>\n",
       "    <tr>\n",
       "      <th>...</th>\n",
       "      <td>...</td>\n",
       "      <td>...</td>\n",
       "    </tr>\n",
       "    <tr>\n",
       "      <th>995</th>\n",
       "      <td>[1*]C1=C(C)NC(C)=C(C(=O)OC)C1c1ccccc1[N+](=O)[O-]</td>\n",
       "      <td>0.51</td>\n",
       "    </tr>\n",
       "    <tr>\n",
       "      <th>996</th>\n",
       "      <td>[1*]CCCC(=O)O</td>\n",
       "      <td>0.51</td>\n",
       "    </tr>\n",
       "    <tr>\n",
       "      <th>997</th>\n",
       "      <td>[1*]CCCCCCC(=O)O</td>\n",
       "      <td>0.51</td>\n",
       "    </tr>\n",
       "    <tr>\n",
       "      <th>998</th>\n",
       "      <td>[1*]c1cc2c(cc1CCC)OCO2</td>\n",
       "      <td>0.51</td>\n",
       "    </tr>\n",
       "    <tr>\n",
       "      <th>999</th>\n",
       "      <td>[1*]c1cc2c(cc1COCCOCCOCCCC)OCO2</td>\n",
       "      <td>0.51</td>\n",
       "    </tr>\n",
       "  </tbody>\n",
       "</table>\n",
       "<p>1000 rows × 2 columns</p>\n",
       "</div>"
      ],
      "text/plain": [
       "                                                smiles  score\n",
       "0      [1*]c1ccc(C[C@H](C)[C@H](C)Cc2ccc(O)c(O)c2)cc1O   0.64\n",
       "1    [1*]c1ccc(C[C@@H](C)[C@@H](C)Cc2ccc(O)c(O)c2)cc1O   0.64\n",
       "2                                                [1*]O   0.64\n",
       "3                                   [1*]c1ccc(O)c(O)c1   0.64\n",
       "4                 [1*]C[C@H](C)[C@H](C)Cc1ccc(O)c(O)c1   0.64\n",
       "..                                                 ...    ...\n",
       "995  [1*]C1=C(C)NC(C)=C(C(=O)OC)C1c1ccccc1[N+](=O)[O-]   0.51\n",
       "996                                      [1*]CCCC(=O)O   0.51\n",
       "997                                   [1*]CCCCCCC(=O)O   0.51\n",
       "998                             [1*]c1cc2c(cc1CCC)OCO2   0.51\n",
       "999                    [1*]c1cc2c(cc1COCCOCCOCCCC)OCO2   0.51\n",
       "\n",
       "[1000 rows x 2 columns]"
      ]
     },
     "execution_count": 5,
     "metadata": {},
     "output_type": "execute_result"
    }
   ],
   "source": [
    "library.fragments"
   ]
  },
  {
   "cell_type": "code",
   "execution_count": 6,
   "id": "4c66fdae-2707-4f4d-ab3a-1d9269e06d98",
   "metadata": {},
   "outputs": [
    {
     "data": {
      "text/plain": [
       "['c15ccc(C#CC6N)nc1.c16ccc(O)cc1.C35=O.CC4.O34',\n",
       " 'CC1=C(C)C(=O)C(C9CCCCCC6=O)=C(C)C1=O.c16ccc(N=Nc2ccc7cc2)cc18.c19ccccc1.C5CC(=O)O.C47=O.C8(=O)O.N45']"
      ]
     },
     "execution_count": 6,
     "metadata": {},
     "output_type": "execute_result"
    }
   ],
   "source": [
    "library.export(2)"
   ]
  },
  {
   "cell_type": "markdown",
   "id": "ccdf111b-31c8-4296-93a3-d0892518efff",
   "metadata": {},
   "source": [
    "## Oracle"
   ]
  },
  {
   "cell_type": "code",
   "execution_count": 7,
   "id": "359b7860-8dd6-4d3b-9e68-8a2f32e5fd47",
   "metadata": {},
   "outputs": [],
   "source": [
    "oracle = Oracle(score = Oracle.RDKitScore('QED'))"
   ]
  },
  {
   "cell_type": "code",
   "execution_count": 8,
   "id": "39c0266a-0163-4c0b-9263-697ad20eb8fa",
   "metadata": {},
   "outputs": [
    {
     "data": {
      "text/plain": [
       "{'CCS(=O)(=O)N1CC(CC#N)(C2CCOCC2C)C1': 0.7789621497302934}"
      ]
     },
     "execution_count": 8,
     "metadata": {},
     "output_type": "execute_result"
    }
   ],
   "source": [
    "oracle.evaluate(['CCS(=O)(=O)N1CC(CC#N)(C2CCOCC2C)C1'])"
   ]
  },
  {
   "cell_type": "markdown",
   "id": "12d5c40f-b47d-4b71-b9e4-1741378fc522",
   "metadata": {},
   "source": [
    "## Generator"
   ]
  },
  {
   "cell_type": "code",
   "execution_count": 9,
   "id": "5a197114-c920-46a4-8b8e-5982f83eb782",
   "metadata": {},
   "outputs": [],
   "source": [
    "generator = GenMol_Generator(invoke_url = 'http://127.0.0.1:8000/generate')"
   ]
  },
  {
   "cell_type": "code",
   "execution_count": 10,
   "id": "9df1a461-9aa2-4618-81be-3bf2483f9e8e",
   "metadata": {},
   "outputs": [
    {
     "data": {
      "text/plain": [
       "[{'smiles': 'CCS(=O)(=O)N1CC(CC#N)(CC(F)(F)F)C1', 'score': 0.777},\n",
       " {'smiles': 'CCS(=O)(=O)N1CC(CC#N)(C2CCCCCC2)C1', 'score': 0.745},\n",
       " {'smiles': 'CCS(=O)(=O)N1CC(CC#N)(C(C)CCC#N)C1', 'score': 0.731}]"
      ]
     },
     "execution_count": 10,
     "metadata": {},
     "output_type": "execute_result"
    }
   ],
   "source": [
    "generator.inference(\n",
    "    smiles = 'CCS2(=O)(=O).C134CN2C1.C3C#N.[*{10-10}]',\n",
    "    num_molecules = 5,\n",
    "    temperature = 1.5,\n",
    "    noise = 2.0\n",
    ")"
   ]
  },
  {
   "cell_type": "code",
   "execution_count": 11,
   "id": "1d004960-af84-44d8-85f1-a81d39fb9c53",
   "metadata": {},
   "outputs": [
    {
     "data": {
      "text/plain": [
       "['CC(C)[C@@H](C)C(=O)NS(=O)(=O)Cc1ccn[nH]1']"
      ]
     },
     "execution_count": 11,
     "metadata": {},
     "output_type": "execute_result"
    }
   ],
   "source": [
    "generator.produce(['CC(NC(=O)C(=O)Nc1ccc(F)c(F)c1F)C(F)COc1cc(CNC(=O)NCc2cccnc2)ccn1'], 1)"
   ]
  },
  {
   "cell_type": "markdown",
   "id": "37bc7914-c0be-416e-b879-3e70ae8bdf16",
   "metadata": {},
   "source": [
    "## Optimizer"
   ]
  },
  {
   "cell_type": "code",
   "execution_count": 12,
   "id": "3d7b66a7-c353-4691-a583-13ca230e88d7",
   "metadata": {},
   "outputs": [],
   "source": [
    "optimizer = MolecularOptimizer(library = library, oracle = oracle, generator = generator)"
   ]
  },
  {
   "cell_type": "code",
   "execution_count": 13,
   "id": "2a7532cc-d1e5-45bf-a950-897a4d62826f",
   "metadata": {},
   "outputs": [
    {
     "name": "stdout",
     "output_type": "stream",
     "text": [
      "BEST 0.64 MEAN 0.6326 STD 0.008283250865328134\n",
      "BEST 0.8601014809506895 MEAN 0.6548451874646553 STD 0.06056788141508239\n",
      "BEST 0.9054237843689569 MEAN 0.6728377827586857 STD 0.0780508011574413\n",
      "BEST 0.91577881680922 MEAN 0.6943374234167312 STD 0.09330699274657255\n",
      "BEST 0.9260319544821659 MEAN 0.7174159352062002 STD 0.10196637678993797\n",
      "BEST 0.9260319544821659 MEAN 0.7266371802349321 STD 0.10123829536028617\n",
      "BEST 0.9260319544821659 MEAN 0.7395284837441279 STD 0.1003886198769303\n",
      "BEST 0.9260319544821659 MEAN 0.7557249181890384 STD 0.09703985200774094\n",
      "BEST 0.9260319544821659 MEAN 0.7859669149146989 STD 0.08812988232064854\n",
      "BEST 0.9260319544821659 MEAN 0.8005683417789525 STD 0.07898666540023529\n",
      "BEST 0.9260319544821659 MEAN 0.8139404302669679 STD 0.06706133513803261\n",
      "BEST 0.9260319544821659 MEAN 0.8186952495650971 STD 0.06186252527402703\n",
      "BEST 0.9277862460895224 MEAN 0.8307914585962459 STD 0.05523463759686769\n",
      "BEST 0.9301085144387667 MEAN 0.8386561952363462 STD 0.050525261771957965\n",
      "BEST 0.9301085144387667 MEAN 0.8473109275354866 STD 0.046809662858046254\n",
      "BEST 0.9301085144387667 MEAN 0.8505983303514261 STD 0.043706501543908156\n",
      "BEST 0.9301085144387667 MEAN 0.8531440434784908 STD 0.041947573090250566\n",
      "BEST 0.9301085144387667 MEAN 0.8579101255095897 STD 0.04032676296013267\n",
      "BEST 0.9301085144387667 MEAN 0.8626235798297449 STD 0.03855563999997401\n",
      "BEST 0.9301085144387667 MEAN 0.8689245606792848 STD 0.037826652613177005\n",
      "BEST 0.9301085144387667 MEAN 0.8734840753175578 STD 0.03589289931128739\n",
      "BEST 0.9301085144387667 MEAN 0.8778430345162666 STD 0.03193319295920988\n",
      "BEST 0.9301085144387667 MEAN 0.8808032859570283 STD 0.02976488390309089\n",
      "BEST 0.9461314973854309 MEAN 0.8858367706551671 STD 0.028210124853127225\n",
      "BEST 0.9461314973854309 MEAN 0.8868349237870606 STD 0.027537084647068884\n",
      "BEST 0.9461314973854309 MEAN 0.8877064059044559 STD 0.02649725836832903\n"
     ]
    }
   ],
   "source": [
    "data = []\n",
    "\n",
    "def eval():\n",
    "    best = library.molecules.score[0]\n",
    "    mean = library.molecules.head(50)['score'].mean()\n",
    "    std = library.molecules.head(50)['score'].std()\n",
    "    print(\"BEST\", best, \"MEAN\", mean, \"STD\", std)\n",
    "    data.append([best, mean, std])\n",
    "\n",
    "eval()\n",
    "\n",
    "for i in range(25):\n",
    "    optimizer.run(iterations = 10, num_mutate = 50)\n",
    "    eval()"
   ]
  },
  {
   "cell_type": "code",
   "execution_count": 14,
   "id": "f28139d3-aaa7-45fc-9c30-a57e48f9a86e",
   "metadata": {},
   "outputs": [
    {
     "data": {
      "text/plain": [
       "[<matplotlib.lines.Line2D at 0x7fc8fec373d0>]"
      ]
     },
     "execution_count": 14,
     "metadata": {},
     "output_type": "execute_result"
    },
    {
     "data": {
      "image/png": "[encoded data removed]",
      "text/plain": [
       "<Figure size 640x480 with 1 Axes>"
      ]
     },
     "metadata": {},
     "output_type": "display_data"
    }
   ],
   "source": [
    "import pandas as pd\n",
    "import matplotlib.pyplot as plt\n",
    "\n",
    "df = pd.DataFrame(data, columns = ['best', 'mean', 'std'])\n",
    "\n",
    "plt.fill_between(df.index, df['mean']-df['std'], df['mean'] + df['std'], alpha=0.4)\n",
    "plt.plot(df['mean'])\n",
    "plt.plot(df['best'])"
   ]
  }
 ],
 "metadata": {
  "kernelspec": {
   "display_name": "Python 3 (ipykernel)",
   "language": "python",
   "name": "python3"
  },
  "language_info": {
   "codemirror_mode": {
    "name": "ipython",
    "version": 3
   },
   "file_extension": ".py",
   "mimetype": "text/x-python",
   "name": "python",
   "nbconvert_exporter": "python",
   "pygments_lexer": "ipython3",
   "version": "3.13.5"
  }
 },
 "nbformat": 4,
 "nbformat_minor": 5
}
