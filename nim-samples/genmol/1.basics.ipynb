{
 "cells": [
  {
   "cell_type": "markdown",
   "id": "c50d702a-0eb4-4715-ac09-2902edaa99e9",
   "metadata": {},
   "source": [
    "# GenMol - Basics"
   ]
  },
  {
   "cell_type": "markdown",
   "id": "145a7e3b-11be-479b-bb45-e390a3f06dff",
   "metadata": {},
   "source": [
    "GenMol is a masked diffusion model trained on molecular SAFE representations for fragment-based molecule generation.  GenMol a generalist model for various drug discovery tasks, including de novo generation, linker design, motif extension, scaffold decoration/morphing, hit generation, and lead optimization.\n",
    "\n",
    "In this notebook, we discuss conversion between SMILES and SAFE molecular representations, and demonstrate *de novo* generation, fragment completion for motif extension and scaffold decoration, and superstructure generation.  We also assess the generated molecules for validity and uniqueness.\n",
    "\n",
    "## Setup\n",
    "Refer to [README.md](README.md) to deploy the GenMol NIM. Make sure that you have your GenMol NIM deployed, and the python requirements installed. \n",
    "**Update the host, username, and password used in the GenMol_Generator for your NIM deployment.**\n",
    "\n",
    "First, we need to import a few dependencies and configure our GenMol interface to point to the NIM `/generate`\n",
    "interface."
   ]
  },
  {
   "cell_type": "code",
   "execution_count": null,
   "id": "80c0bbc0-0587-4038-a998-10fc27f3395d",
   "metadata": {},
   "outputs": [],
   "source": [
    "!pip install -r requirements.txt"
   ]
  },
  {
   "cell_type": "code",
   "execution_count": null,
   "id": "d1118de6-5b0e-4459-8283-7e04207c52f8",
   "metadata": {},
   "outputs": [],
   "source": [
    "from genmol import GenMol_Generator\n",
    "from utils import Utils\n",
    "\n",
    "from rdkit import Chem\n",
    "from rdkit.Chem import Draw\n",
    "\n",
    "# SAFE <> SMILES conversion\n",
    "import safe as sf\n",
    "import datamol as dm\n",
    "\n",
    "host = '<host>' # TODO: Fill in with the deployed NIM URL, without http://, https:// and forward slashes\n",
    "username = '<username>' # TODO: Fill in with username from deployment\n",
    "password = '<password>' # TODO: Fill in with password from deployment\n",
    "invoke_url = f'https://{username}:{password}@{host}/generate'\n",
    "gm = GenMol_Generator(invoke_url = invoke_url)"
   ]
  },
  {
   "cell_type": "markdown",
   "id": "31e28751-7474-4820-a613-9f19ebebd1f8",
   "metadata": {},
   "source": [
    "## Introduction to GenMol and the use of SAFE, SMILES, and masks.\n",
    "\n",
    "GenMol is a masked diffusion model trained on molecular Sequential Attachmentbased Fragment Embeddings, or [SAFE representations](https://arxiv.org/abs/2310.10773) for fragment-based molecule generation.  The GenMol NIM accepts both SMILES and SAFE molecular representations as input, but the use of SAFE representations allow explicit specification of fragments, attachment points, and regions of molecule to be masked.  It is important to note that SAFE representations are order invariant, so that the structure of explicitly specified fragments and masked, generated fragments are determined based on attachment points regardless of the order in which the fragments and mask are specified.\n",
    "\n",
    "The SAFE representation is composed of molecule fragments separated by a `.` token.  These fragments can be coupled with a mask of the form `[*{min_tokens-mask_tokens}]`.  A pure mask can be input without any additional fragments for de novo molecule generation as shown below.  For example, a pure mask of `[*{20-30}]` will return molecules generated with a minimum of 20 and maximum of 30 tokens.  Additional examples are provided that demonstrate the combination of molecule fragments and mask for motif extension and scaffold decoration.\n",
    "\n",
    "Before diving into the examples, it is useful to see how to translate between SMILES and SAFE representations.  The next few cells demonstrate how to convert between SMILES and SAFE and visualize the results using the [`datamol/safe`](https://github.com/datamol-io/safe) package.  Additional examples can be found in the [SAFE docs](https://safe-docs.datamol.io/stable/).\n",
    "\n",
    "First, display an example molecule using its SMILES representation."
   ]
  },
  {
   "cell_type": "code",
   "execution_count": null,
   "id": "8bcf5bbc-40af-4d93-bd74-0c9501d53b2c",
   "metadata": {},
   "outputs": [],
   "source": [
    "testsmiles = \"CCS(=O)(=O)N1CC(CC#N)(n2cc(-c3ncnc4[nH]ccc34)cn2)C1\"\n",
    "testmol = dm.to_mol(testsmiles)\n",
    "display(dm.to_image(testmol))"
   ]
  },
  {
   "cell_type": "markdown",
   "id": "dd1dd416-1b1c-4d33-863f-3537d8d52203",
   "metadata": {},
   "source": [
    "Then use the SAFE encoder to generate the SAFE fragment-based representation."
   ]
  },
  {
   "cell_type": "code",
   "execution_count": null,
   "id": "191f0db6-f646-4725-8940-99b9e36ad62c",
   "metadata": {},
   "outputs": [],
   "source": [
    "safe_str = sf.encode(testmol)\n",
    "print(f\"SMILES: {testsmiles}\")\n",
    "print(f\"SAFE:   {safe_str}\\n represented using {len(safe_str.split('.'))} fragments\")"
   ]
  },
  {
   "cell_type": "markdown",
   "id": "1aa2539b-42c7-4164-9bc5-be226695f17c",
   "metadata": {},
   "source": [
    "Then use the `datamol` `to_mol()` function to reconstruct the molecule from the SAFE string."
   ]
  },
  {
   "cell_type": "code",
   "execution_count": null,
   "id": "150179c8-748b-47ac-bce5-2864fae0e106",
   "metadata": {},
   "outputs": [],
   "source": [
    "testreconstructed = dm.to_mol(safe_str)\n",
    "display(dm.to_image(testreconstructed))"
   ]
  },
  {
   "cell_type": "markdown",
   "id": "1908bce0-3461-4c38-a16f-6eafbe0c4965",
   "metadata": {},
   "source": [
    "We can also visualize the molecule, highlighting the individual fragments that compose it."
   ]
  },
  {
   "cell_type": "code",
   "execution_count": null,
   "id": "92ebd04c-14a4-48bc-a556-cc304bd2434f",
   "metadata": {},
   "outputs": [],
   "source": [
    "sf.to_image(safe_str)"
   ]
  },
  {
   "cell_type": "markdown",
   "id": "574075e9-34d1-4a6f-a2a1-9e770b2a6d5b",
   "metadata": {},
   "source": [
    "The examples above demonstrate how to manually use the `datamol/safe` package to convert between SMILES and SAFE representations.  In the examples that follow, we will use the provided `Utils` package that provides utilities for converting and managing fragments and attachment points."
   ]
  },
  {
   "cell_type": "markdown",
   "id": "147f0e13-58b1-45ac-95c7-1f48330e0def",
   "metadata": {},
   "source": [
    "## De novo Generation"
   ]
  },
  {
   "cell_type": "code",
   "execution_count": null,
   "id": "20ecc452-e875-4f72-8fb5-eee4366f6f32",
   "metadata": {},
   "outputs": [],
   "source": [
    "molecules = gm.inference(smiles = '[*{15-25}]', num_molecules = 20)[:12]"
   ]
  },
  {
   "cell_type": "code",
   "execution_count": null,
   "id": "5461a343-57f8-466b-ab25-ec989a6f76bc",
   "metadata": {},
   "outputs": [],
   "source": [
    "ms = [Chem.MolFromSmiles(_['smiles']) for _ in molecules]"
   ]
  },
  {
   "cell_type": "code",
   "execution_count": null,
   "id": "52b48831-a094-4a24-99f8-bce5ecda6c01",
   "metadata": {},
   "outputs": [],
   "source": [
    "Draw.MolsToGridImage(ms, molsPerRow=4, subImgSize=(240, 150), legends=['QED ' + str(_['score']) for _ in molecules])"
   ]
  },
  {
   "cell_type": "markdown",
   "id": "976499ec-dd51-4815-a941-c21590d39c4e",
   "metadata": {},
   "source": [
    "## Fragment Completion\n",
    "\n",
    "### Motif-Extension or Scaffold-Decoration"
   ]
  },
  {
   "cell_type": "code",
   "execution_count": null,
   "id": "2b11b1d3-ffda-486c-9e03-a015e226b32f",
   "metadata": {},
   "outputs": [],
   "source": [
    "smiles_full = 'CCS(=O)(=O)N1CC(CC#N)(n2cc(-c3ncnc4[nH]ccc34)cn2)C1'\n",
    "Draw.MolToImage(Chem.MolFromSmiles(smiles_full))"
   ]
  },
  {
   "cell_type": "code",
   "execution_count": null,
   "id": "cafa4e98-6fc4-44a4-a2d8-8726eaf97b7c",
   "metadata": {},
   "outputs": [],
   "source": [
    "smiles = '[2*]C1(CC#N)CN(S(=O)(=O)CC)C1'\n",
    "Draw.MolToImage(Chem.MolFromSmiles(smiles))"
   ]
  },
  {
   "cell_type": "code",
   "execution_count": null,
   "id": "2799650b-b4ea-42b9-81eb-15b0948b185a",
   "metadata": {},
   "outputs": [],
   "source": [
    "safe = Utils.smiles2safe(smiles)\n",
    "safe"
   ]
  },
  {
   "cell_type": "code",
   "execution_count": null,
   "id": "dc9dca4d-80b6-4b9d-b358-e1cde9967a62",
   "metadata": {},
   "outputs": [],
   "source": [
    "molecules = gm.inference(smiles = safe + '.[*{15-25}]', num_molecules = 100, temperature = 2.0, noise = 1.0)[:12]\n",
    "len(molecules)"
   ]
  },
  {
   "cell_type": "code",
   "execution_count": null,
   "id": "4431392d-ee99-42e7-a417-367c491d943d",
   "metadata": {},
   "outputs": [],
   "source": [
    "ms = [Chem.MolFromSmiles(_['smiles']) for _ in molecules]"
   ]
  },
  {
   "cell_type": "code",
   "execution_count": null,
   "id": "419a432e-b003-461c-8ad9-2614d9f137a0",
   "metadata": {},
   "outputs": [],
   "source": [
    "Draw.MolsToGridImage(ms, molsPerRow=4, subImgSize=(240, 150), legends=['QED ' + str(_['score']) for _ in molecules])"
   ]
  },
  {
   "cell_type": "markdown",
   "id": "49dc0928-0441-4a1c-a8de-0f8bd31e2928",
   "metadata": {},
   "source": [
    "## Superstructure Generation"
   ]
  },
  {
   "cell_type": "code",
   "execution_count": null,
   "id": "359b9324-96b2-4233-8aea-63956c87a0f6",
   "metadata": {},
   "outputs": [],
   "source": [
    "smiles = 'c1nc(-c2cnn(C3CNC3)c2)c2cc[nH]c2n1'\n",
    "Draw.MolToImage(Chem.MolFromSmiles(smiles))"
   ]
  },
  {
   "cell_type": "code",
   "execution_count": null,
   "id": "42078f9b-0d7d-4715-8a67-3f951fb668e0",
   "metadata": {},
   "outputs": [],
   "source": [
    "cores = Utils.attachable_points(smiles)[:6]\n",
    "ms = [Chem.MolFromSmiles(_) for _ in cores]\n",
    "Draw.MolsToGridImage(ms, molsPerRow=3, subImgSize=(300, 200), legends=['QED ' + str(_['score']) for _ in molecules])"
   ]
  },
  {
   "cell_type": "code",
   "execution_count": null,
   "id": "1c1ebfa8-9879-493f-bf6d-01a2873b8b8a",
   "metadata": {},
   "outputs": [],
   "source": [
    "safes = [Utils.smiles2safe(_) for _ in cores]\n",
    "molecules = [gm.inference(smiles = _ + '.[*{15-15}]', num_molecules = 10, temperature = 1.5, noise = 1.0)[0] for _ in safes]"
   ]
  },
  {
   "cell_type": "code",
   "execution_count": null,
   "id": "388a3959-9ae4-4826-a8cd-5ba3132545be",
   "metadata": {},
   "outputs": [],
   "source": [
    "smiless = [_['smiles'] for _ in molecules]\n",
    "ms = [Chem.MolFromSmiles(_) for _ in smiless]\n",
    "Draw.MolsToGridImage(ms, molsPerRow=3, subImgSize=(300, 200), legends=['QED ' + str(_['score']) for _ in molecules])"
   ]
  },
  {
   "cell_type": "markdown",
   "id": "ceb7d89a-c422-4dc1-84cb-17d68fbe67a3",
   "metadata": {},
   "source": [
    "## Benchmarks for Validity and Uniqueness"
   ]
  },
  {
   "cell_type": "code",
   "execution_count": null,
   "id": "991350e6-3509-4996-afb9-948ee0eee9cc",
   "metadata": {},
   "outputs": [],
   "source": [
    "smiles = '[11*]C1(CC#N)CN(S(=O)(=O)CC)C1'\n",
    "safe = Utils.smiles2safe(smiles)\n",
    "safe"
   ]
  },
  {
   "cell_type": "code",
   "execution_count": null,
   "id": "ad4271e1-a571-49f7-8d20-312c2f610419",
   "metadata": {},
   "outputs": [],
   "source": [
    "nsample = 100\n",
    "ntest = 50\n",
    "\n",
    "def test():\n",
    "    molecules = gm.inference(smiles = safe + '.[*{17-17}]', num_molecules = nsample, temperature = 1.2, noise = 1.6, unique = False)\n",
    "    return len(molecules)/nsample, len(set([_['smiles'] for _ in molecules]))/nsample\n",
    "\n",
    "data = [test() for _ in range(ntest)]"
   ]
  },
  {
   "cell_type": "code",
   "execution_count": null,
   "id": "89ab6a80-37ca-409b-a65b-0cad5c9b3e4b",
   "metadata": {},
   "outputs": [],
   "source": [
    "import pandas as pd\n",
    "pd.DataFrame(data, columns = ['validity', 'uniqueness']).describe(percentiles=[])"
   ]
  },
  {
   "cell_type": "code",
   "execution_count": null,
   "id": "f651ffbc-5d26-495b-9dc6-b9b0c7a810cd",
   "metadata": {},
   "outputs": [],
   "source": [
    "import matplotlib.pyplot as plt\n",
    "pd.DataFrame(data, columns = ['validity', 'uniqueness']).hist(bins=10)"
   ]
  }
 ],
 "metadata": {
  "kernelspec": {
   "display_name": "Python 3 (ipykernel)",
   "language": "python",
   "name": "python3"
  },
  "language_info": {
   "codemirror_mode": {
    "name": "ipython",
    "version": 3
   },
   "file_extension": ".py",
   "mimetype": "text/x-python",
   "name": "python",
   "nbconvert_exporter": "python",
   "pygments_lexer": "ipython3",
   "version": "3.13.5"
  }
 },
 "nbformat": 4,
 "nbformat_minor": 5
}
