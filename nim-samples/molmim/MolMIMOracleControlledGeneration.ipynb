{
 "cells": [
  {
   "cell_type": "markdown",
   "id": "ae543552-038b-4a61-a814-cc3de782ed5f",
   "metadata": {},
   "source": [
    "# Controlled Small Molecule Generation for Drug Discovery using the MolMIM NIM with Custom Oracles\n",
    "\n",
    "In the field of drug discovery, identifying novel and effective compounds is a crucial step in the development of new medicines. Chemical space, the vast expanse of all possible chemical compounds, is a complex landscape that can be difficult to navigate. Molecular generative AI models, such as MolMIM, can be used to sample this space and identify promising compounds.\n",
    "\n",
    "## CMA-ES: A Global Optimization Algorithm\n",
    "\n",
    "CMA-ES (Covariance Matrix Adaptation Evolution Strategy) is a global optimization algorithm that is well-suited for optimizing complex objective functions such as the QED score. It uses a population of candidate solutions to search for the optimal solution, and adapts the covariance matrix of the search distribution to improve the search process.\n",
    "\n",
    "## Objectives\n",
    "\n",
    "In this notebook, we will use MolMIM to perform guided optimization on an imatinib seed using CMA-ES and a custom oracle scoring function to optimize for desired properties.\n",
    "\n",
    "## Setup\n",
    "\n",
    "Refer to [README.md](README.md) to deploy the MolMIM NIM. Make sure that you have your MolMIM NIM deployed, and the python requirements installed. "
   ]
  },
  {
   "cell_type": "code",
   "execution_count": null,
   "id": "c957143f-8680-41b9-8a44-7d049e079a9c",
   "metadata": {},
   "outputs": [],
   "source": [
    "# Uncomment the line below and execute this cell if you are missing the modules required to run this notebook\n",
    "# !pip install cma matplotlib numpy pandas rdkit"
   ]
  },
  {
   "cell_type": "code",
   "execution_count": null,
   "id": "ad0fdcb6-d1ad-4825-af28-ffb3c6e2680d",
   "metadata": {},
   "outputs": [],
   "source": [
    "import cma\n",
    "import json\n",
    "import matplotlib.pyplot as plt\n",
    "import numpy as np\n",
    "import requests\n",
    "from IPython.display import display, clear_output\n",
    "from rdkit import Chem\n",
    "from rdkit.Chem import Draw\n",
    "from rdkit.Chem.QED import qed\n",
    "from rdkit.Chem.AllChem import GetMorganFingerprintAsBitVect\n",
    "from rdkit.DataStructs import TanimotoSimilarity\n",
    "from rdkit import RDLogger                                                                                                                                                               \n",
    "RDLogger.DisableLog('rdApp.*')"
   ]
  },
  {
   "cell_type": "markdown",
   "id": "efdd4ab8-ec8e-4245-8662-2d275e2079d4",
   "metadata": {},
   "source": [
    "### Define the NIM host\n",
    "To get started, we'll define our NIM host and the NIM endpoints we'll use in the following cells. **Update the host, username, and password used in the GenMol_Generator for your NIM deployment.**\n",
    "\n",
    " - `/sampling` - Perform random sampling around a seed SMILES to define a starting population\n",
    " - `/hidden` - Generate the hidden state encoding for a set of input SMILES\n",
    " - `/decode` - Decode hidden state encodings to return a set of SMILES"
   ]
  },
  {
   "cell_type": "code",
   "execution_count": null,
   "id": "e316eab3-16de-4141-8860-ef7ec437e32b",
   "metadata": {},
   "outputs": [],
   "source": [
    "nim_host = \"<host>\" # TODO: update this to the app endpoint without http://, https:// and forward slashes\n",
    "username = \"<username>\" # TODO: update this to username that is set on deployment\n",
    "password = \"<password>\" # TODO: update this to password that is set on deployment\n",
    "NIM_url = f\"https://{username}:{password}@{nim_host}\"\n",
    "sampling_url = f\"{NIM_url}/sampling\"\n",
    "hidden_url = f\"{NIM_url}/hidden\"\n",
    "decode_url = f\"{NIM_url}/decode\""
   ]
  },
  {
   "cell_type": "markdown",
   "id": "76a73128",
   "metadata": {},
   "source": [
    "Let's run a health check on our NIM:"
   ]
  },
  {
   "cell_type": "code",
   "execution_count": null,
   "id": "908cbc27",
   "metadata": {},
   "outputs": [],
   "source": [
    "!curl {NIM_url}/v1/health/ready"
   ]
  },
  {
   "cell_type": "markdown",
   "id": "992b9d30-d0ec-4654-8b69-f986934ed207",
   "metadata": {},
   "source": [
    "## Guided Molecular Generation with CMA-ES\n",
    "\n",
    "In contrast to the random sampling of the latent space described above, we can use a black box optimizer, called CMA-ES, to perform guided optimization of the a molecule's property through sampling of the latent space. In the blocks below, we'll first generate and score a population of candidate molecules using random sampling, and then use CMA-ES to optimize for a custom scoring function based on QED and Tanimoto Similarity.\n"
   ]
  },
  {
   "cell_type": "markdown",
   "id": "66276525-0984-4fa8-8175-fee48c74e9cb",
   "metadata": {},
   "source": [
    "The following code block defines a function called `tanimoto_similarity` that calculates the Tanimoto similarity between two molecules. The function takes two parameters: `smiles`, the SMILES string of the molecule to be compared, and `reference`, the SMILES string of the reference molecule. The function first gets the fingerprint parameters, then creates the fingerprint for the reference molecule. It then validates the input molecule by converting its SMILES string to a molecule object and checks if the object is None. If the object is None, it returns 0. Otherwise, it creates the fingerprint for the input molecule and calculates the Tanimoto similarity between the two fingerprints. The function returns the calculated Tanimoto similarity.\n",
    "\n",
    "This function will be used along with the RDKit QED function to score both the randomly sampled population and to construct the oracle scoring function used with CMA-ES guided optimization."
   ]
  },
  {
   "cell_type": "code",
   "execution_count": null,
   "id": "ea403fca-4f36-4c7d-9426-466c0d198676",
   "metadata": {},
   "outputs": [],
   "source": [
    "def tanimoto_similarity(smiles, reference: str):\n",
    "    # Get fingerprint params\n",
    "    fingerprint_radius_param = 2\n",
    "    fingerprint_nbits = 2048\n",
    "\n",
    "    # Handle the reference molecule\n",
    "    reference_mol = Chem.MolFromSmiles(reference)\n",
    "    reference_fingerprint = GetMorganFingerprintAsBitVect(\n",
    "        reference_mol, radius=fingerprint_radius_param, nBits=fingerprint_nbits\n",
    "    )\n",
    "\n",
    "    # Validate the other molecule\n",
    "    mol = Chem.MolFromSmiles(smiles)\n",
    "    if mol is None:\n",
    "        return 0\n",
    "\n",
    "    fingerprint = GetMorganFingerprintAsBitVect(mol, radius=fingerprint_radius_param, nBits=fingerprint_nbits)\n",
    "\n",
    "    # Calculate and return the Tanimoto similarity\n",
    "    return TanimotoSimilarity(fingerprint, reference_fingerprint)"
   ]
  },
  {
   "cell_type": "markdown",
   "id": "b739c4ba-335a-4f97-a0ca-aa5ca78ed09d",
   "metadata": {},
   "source": [
    "### First an example using random sampling around the imatinib seed\n",
    "\n",
    "In the following block, we define the imatinib seed and use the `/sampling` endpoint to randomly sample latent space to generate a candidate population.  We then calculate the average Tanimoto similarity and QED for this population.\n",
    "\n"
   ]
  },
  {
   "cell_type": "code",
   "execution_count": null,
   "id": "5dac62d8-a15d-4d3d-a692-861ec4ad298e",
   "metadata": {},
   "outputs": [],
   "source": [
    "# Define a starting array of seed SMIs\n",
    "\n",
    "imatinib = 'CC1=C(C=C(C=C1)NC(=O)C2=CC=C(C=C2)CN3CCN(CC3)C)NC4=NC=CC(=N4)C5=CN=CC=C5'\n",
    "\n",
    "mol = Chem.MolFromSmiles(imatinib)\n",
    "imatinib_qed = qed(mol)\n",
    "\n",
    "starting_smiles = [\n",
    "    imatinib,\n",
    "    imatinib,\n",
    "    imatinib,\n",
    "    imatinib,\n",
    "    imatinib\n",
    "]\n",
    "\n",
    "generated_smiles = []\n",
    "tanimoto_scores = []\n",
    "qed_scores = []\n",
    "sampling_summary = {}\n",
    "\n",
    "# Create the request data\n",
    "for smi in starting_smiles:\n",
    "    data = {\n",
    "        'sequences': [smi],\n",
    "        'beam_size': 3,\n",
    "        'num_molecules': 10,\n",
    "        'scaled_radius': 1.0,\n",
    "    }\n",
    "\n",
    "    # Send the request and get the response\n",
    "    headers = {'Content-Type': 'application/json'}\n",
    "    response = requests.post(sampling_url, headers=headers, json=data)\n",
    "    \n",
    "    # Parse the response as JSON\n",
    "    response_json = json.loads(response.text)\n",
    "    \n",
    "    # Extract the generated SMILES strings\n",
    "    generated_molecules = response_json['generated'][0]\n",
    "    \n",
    "    # Filter out invalid SMILES strings\n",
    "    valid_smiles = [m for m in generated_molecules if Chem.MolFromSmiles(m) is not None]\n",
    "    generated_smiles.extend(valid_smiles)\n",
    "\n",
    "# Calculate Tanimoto similarity and QED score for each valid SMILES string\n",
    "for smile in generated_smiles:\n",
    "    mol = Chem.MolFromSmiles(smile)\n",
    "    if mol:\n",
    "        tanimoto = tanimoto_similarity(smile, imatinib)\n",
    "        qed_score = qed(mol)\n",
    "        tanimoto_scores.append(tanimoto)\n",
    "        qed_scores.append(qed_score)\n",
    "\n",
    "# Sampling summary - valid smiles count, average Tanimoto and QED scores\n",
    "sampling_summary['valid_smiles']=len(generated_smiles)\n",
    "sampling_summary['tanimoto_similarity'] = np.mean(tanimoto_scores)\n",
    "sampling_summary['qed_score'] = np.mean(qed_scores)\n",
    "\n",
    "print(f\"Valid SMILES = {sampling_summary['valid_smiles']}, mean TS = {sampling_summary['tanimoto_similarity']}, mean QED = {sampling_summary['qed_score']}\")\n"
   ]
  },
  {
   "cell_type": "markdown",
   "id": "ba8b124f-0f42-49de-a914-a07d460a5e03",
   "metadata": {},
   "source": [
    "### Custom Scoring Oracle\n",
    "\n",
    "Next, we'll define a custom oracle scoring function. This function is based on QED and tanimoto similarity scores, and is what was used for property optimization in the [MolMIM paper](https://arxiv.org/abs/2208.09016). \n",
    "\n",
    "$$\n",
    "   score = min(QED / 0.9, 1) + min(Tanimoto / 0.4, 1)\n",
    "$$\n",
    "\n",
    "This oracle tries to maximize QED and similarity score, up to QED of 0.9 and similarlity of 0.4, beyond which there is no more gain.  Note that we return the inverse of the calculated score, as CMA-ES will work to maximize this value."
   ]
  },
  {
   "cell_type": "code",
   "execution_count": null,
   "id": "4b3ae767-0fb7-4c5a-944e-2c4edbb18030",
   "metadata": {},
   "outputs": [],
   "source": [
    "def scoring_function(qeds, similarities) -> np.ndarray:\n",
    "    return -1. * (np.clip(np.array(qeds) / 0.9, a_min=0.0, a_max=1.0) + np.clip(np.array(similarities) / 0.4, a_min=0.0, a_max=1.0))\n",
    "\n",
    "scores = scoring_function(qed_scores, tanimoto_scores)"
   ]
  },
  {
   "cell_type": "markdown",
   "id": "6d6b317c-b5bb-4578-ba38-db01284dbb13",
   "metadata": {},
   "source": [
    "We can then plot the scores of the randomly sampled candidates in our search space."
   ]
  },
  {
   "cell_type": "code",
   "execution_count": null,
   "id": "4539d6d8-308e-4dc2-a012-a7ca9f345c8c",
   "metadata": {},
   "outputs": [],
   "source": [
    "%matplotlib inline\n",
    "plt.ion()\n",
    "fig, ax = plt.subplots()\n",
    "deltas = np.linspace(0, 1, 100)\n",
    "Xgrid, Ygrid = np.meshgrid(deltas, deltas)\n",
    "score_background = -1*scoring_function(Xgrid, Ygrid)\n",
    "plt.contourf(Xgrid, Ygrid, score_background, levels=100, vmin=0, vmax=2.0)\n",
    "plt.colorbar(label='score', ticks=np.linspace(0,2,11))\n",
    "plt.plot([imatinib_qed, imatinib_qed], [0, 1], linestyle=':', c='k', label=\"Original QED\")\n",
    "plt.scatter(qed_scores, tanimoto_scores, c=-1*scores, edgecolor='1.0', linewidths=0.7)\n",
    "plt.xlabel(\"QED\")\n",
    "plt.ylabel(\"Similarity\")\n",
    "plt.legend()\n",
    "plt.draw()"
   ]
  },
  {
   "cell_type": "markdown",
   "id": "7b219bd2-10b3-4135-a8f6-dca80ec1bdd0",
   "metadata": {},
   "source": [
    "\n",
    "\n",
    "## Controlled Generation with CMA-ES and the custom oracle\n",
    "\n",
    "### Generate hidden state encoding for the imatinib seed to initialize CMA-ES\n",
    "\n",
    "To start the CMA-ES optimization process, we first seed the optimizer with the hidden state encoding for our imatinib seed molecule using the `/hidden` endpoint."
   ]
  },
  {
   "cell_type": "code",
   "execution_count": null,
   "id": "ba94e53a-69b3-49e7-9a89-082ddf04ac6b",
   "metadata": {},
   "outputs": [],
   "source": [
    "# First calculate a hidden state representation of our seed, imatinib.\n",
    "headers = {\n",
    "    'accept': 'application/json',\n",
    "    'Content-Type': 'application/json'\n",
    "}\n",
    "data = {\n",
    "    \"sequences\": [imatinib],\n",
    "}\n",
    "\n",
    "# Get the response from the server\n",
    "response = requests.post(hidden_url, headers=headers, json=data)\n",
    "imatinib_hidden = np.squeeze(np.array(response.json()[\"hiddens\"]))\n",
    "\n",
    "# We can use this seed hidden state as a starting point for our CMA-ES optimizer\n",
    "popsize = sampling_summary['valid_smiles']\n",
    "sigma=1.0\n",
    "\n",
    "# Initialize with zeros or the hidden state encoding for imatinib\n",
    "#optimizer = cma.CMAEvolutionStrategy(np.zeros(imatinib_hidden.size, dtype=np.float32), sigma, {'popsize': popsize})\n",
    "optimizer = cma.CMAEvolutionStrategy(imatinib_hidden, sigma, {'popsize': popsize})"
   ]
  },
  {
   "cell_type": "markdown",
   "id": "0376658f-c895-469d-80df-fe7dbfe8d3b4",
   "metadata": {},
   "source": [
    "Now that we've initialized the CMA-ES optimizer, we can generate and decode an initial set of trial encodings using the `/decode` endpoint."
   ]
  },
  {
   "cell_type": "code",
   "execution_count": null,
   "id": "0e52b13e-c70f-4481-9945-ca9169a147df",
   "metadata": {},
   "outputs": [],
   "source": [
    "# Generate and decode a set of initial trial encodings with CMA-ESecode trial encodings\n",
    "\n",
    "trial_encodings=optimizer.ask(popsize)\n",
    "\n",
    "headers = {\n",
    "    'accept': 'application/json',\n",
    "    'Content-Type': 'application/json'\n",
    "}\n",
    "hiddens_array = np.expand_dims(np.array(trial_encodings), axis=1)\n",
    "hiddens_json = {\"hiddens\":hiddens_array.tolist(),\n",
    "                \"mask\": [[True] for i in range(hiddens_array.shape[0])]}\n",
    "\n",
    "\n",
    "response = requests.post(decode_url, headers=headers, json=hiddens_json)\n",
    "molecules = list(dict.fromkeys(response.json()['generated']))"
   ]
  },
  {
   "cell_type": "markdown",
   "id": "8eacb70b-3d57-4374-b854-08803baecbee",
   "metadata": {},
   "source": [
    "We can then calculate the scores for this trial population and plot the results in our search space."
   ]
  },
  {
   "cell_type": "code",
   "execution_count": null,
   "id": "b5dab382-74e1-415d-bc26-6849679bfafe",
   "metadata": {},
   "outputs": [],
   "source": [
    "%matplotlib inline\n",
    "\n",
    "# Calculate Tanimoto similarity and QED score for each valid SMILES string\n",
    "tanimoto_scores= []\n",
    "qed_scores = []\n",
    "for smile in molecules:\n",
    "    mol = Chem.MolFromSmiles(smile)\n",
    "    if mol:\n",
    "        tanimoto = tanimoto_similarity(smile, imatinib)\n",
    "        qed_score = qed(mol)\n",
    "        tanimoto_scores.append(tanimoto)\n",
    "        qed_scores.append(qed_score)\n",
    "\n",
    "scores = scoring_function(qed_scores, tanimoto_scores)\n",
    "\n",
    "# update popsize based on the number of scores from valid molecules\n",
    "popsize=len(scores)\n",
    "print(f\"Current popsize = {popsize}\")\n",
    "\n",
    "# Plot\n",
    "plt.ion()\n",
    "fig, ax = plt.subplots()\n",
    "plt.contourf(Xgrid, Ygrid, score_background, levels=100, vmin=0, vmax=2.0)\n",
    "plt.colorbar(label='score', ticks=np.linspace(0,2,11))\n",
    "plt.plot([imatinib_qed, imatinib_qed], [0, 1], linestyle=':', c='k', label=\"Original QED\")\n",
    "plt.scatter(qed_scores, tanimoto_scores, c=-1*scores, edgecolor='1.0', linewidths=0.7)\n",
    "plt.xlabel(\"QED\")\n",
    "plt.ylabel(\"Similarity\")\n",
    "plt.legend()\n",
    "plt.draw()"
   ]
  },
  {
   "cell_type": "markdown",
   "id": "5a785b14-a6fb-46eb-a7b9-6a4287e928b0",
   "metadata": {},
   "source": [
    "### Iterative optimization with CMA-ES and the custom oracle function\n",
    "Now that we have our starting population, we can iteratively optimize using the CMA-ES strategy:\n",
    "\n",
    "1. Generate a new set of trial encodings\n",
    "2. Decode and calculate scores\n",
    "3. Generate a new set of hidden state representations for valid trial candidates\n",
    "4. Update the CMA-ES optimizer with the current combination of scores and hidden state representations\n",
    "\n",
    "Note that through the CMA-ES optimization loop, we will occasionally encounter invalid SMILES depending on the search parameters.  We will stop the CMA-ES optimization loop if we have reduced our starting population by half."
   ]
  },
  {
   "cell_type": "code",
   "execution_count": null,
   "id": "6e01c31e-683d-48cb-81a3-8a5f2d724590",
   "metadata": {},
   "outputs": [],
   "source": [
    "%matplotlib inline\n",
    "fig, (ax1, ax2) = plt.subplots(1, 2)\n",
    "fig.set_figheight(8)\n",
    "fig.set_figwidth(16)\n",
    "med_qeds = [np.median(np.array(qed_scores))]\n",
    "med_sims = [np.median(np.array(tanimoto_scores))]\n",
    "\n",
    "# CMA-ES requires at least half of the starting population size\n",
    "minpopsize = popsize/2\n",
    "\n",
    "n_steps=50\n",
    "\n",
    "for i in range(n_steps):\n",
    "    trial_encodings=optimizer.ask(popsize)\n",
    "    print(f\"Size trial encodings = {len(trial_encodings)}\")\n",
    "\n",
    "    # Decode trial encodings for a new set of candidate molecules\n",
    "    headers = {\n",
    "        'accept': 'application/json',\n",
    "        'Content-Type': 'application/json'\n",
    "    }\n",
    "    hiddens_array = np.expand_dims(np.array(trial_encodings), axis=1)\n",
    "    hiddens_json = {\"hiddens\":hiddens_array.tolist(),\n",
    "                    \"mask\": [[True] for i in range(hiddens_array.shape[0])]}\n",
    "\n",
    "    response = requests.post(decode_url, headers=headers, json=hiddens_json)\n",
    "\n",
    "    # Deduplicate the list of generated molecules\n",
    "    molecules = list(dict.fromkeys(response.json()['generated']))\n",
    "    valid_smiles = [m for m in molecules if Chem.MolFromSmiles(m) is not None]\n",
    "\n",
    "    # Generate updated encodings for valid smiles\n",
    "    headers = {\n",
    "    'accept': 'application/json',\n",
    "    'Content-Type': 'application/json'\n",
    "    }\n",
    "    data = {\n",
    "        \"sequences\": valid_smiles,\n",
    "    }\n",
    "    response = requests.post(hidden_url, headers=headers, json=data)\n",
    "    hiddens_array = np.squeeze(np.array(response.json()[\"hiddens\"]))\n",
    "\n",
    "    # Calculate Tanimoto similarity and QED score for each valid SMILES string\n",
    "    tanimoto_scores= []\n",
    "    qed_scores = []\n",
    "    for smile in valid_smiles:\n",
    "        mol = Chem.MolFromSmiles(smile)\n",
    "        if mol:\n",
    "            tanimoto = tanimoto_similarity(smile, imatinib)\n",
    "            qed_score = qed(mol)\n",
    "            tanimoto_scores.append(tanimoto)\n",
    "            qed_scores.append(qed_score)\n",
    "\n",
    "    # Update CMA-ES with current hiddens_array and scores\n",
    "    scores = scoring_function(qed_scores, tanimoto_scores)\n",
    "    popsize=len(scores)\n",
    "    print(f\"Valid SMILES at iteration {i} = {popsize}\")\n",
    "\n",
    "    if popsize <= minpopsize:\n",
    "        print(f\"Stopping at minimum population size {popsize}\\n\")\n",
    "        break\n",
    "    else:\n",
    "        optimizer.tell(np.squeeze(np.array(hiddens_array)), scores)\n",
    "    \n",
    "        # plots\n",
    "        ax1.clear()\n",
    "        clear_output(wait=True)\n",
    "        ax1.contourf(Xgrid, Ygrid, score_background, levels=100, vmin=0, vmax=2.0)\n",
    "        ax1.set_xlabel('QED')\n",
    "        ax1.set_ylabel('Similarity')\n",
    "        ax1.plot([imatinib_qed, imatinib_qed], [0, 1], linestyle=':', c='k', label=\"Original QED\")\n",
    "        ax1.scatter(qed_scores, tanimoto_scores, c=-1*scores, edgecolor='1.0', linewidths=0.7)\n",
    "        \n",
    "        ax2.clear()\n",
    "        med_qeds.append(np.median(qed_scores))\n",
    "        med_sims.append(np.median(tanimoto_scores))\n",
    "        ax2.plot(med_qeds, label='Median QEDs')\n",
    "        ax2.plot(med_sims, label='Median similarities')\n",
    "        ax2.set_xlabel(\"Iteration\")\n",
    "        ax2.set_ylabel(\"Value\")\n",
    "        ax2.set_xlim(0, n_steps)\n",
    "        ax2.set_ylim(0, 1)\n",
    "        ax2.legend()\n",
    "        display(fig)\n",
    "\n"
   ]
  },
  {
   "cell_type": "markdown",
   "id": "a21a8f81-724d-43b1-864d-de43b809b069",
   "metadata": {},
   "source": [
    "## Viewing the resulting optimized molecules."
   ]
  },
  {
   "cell_type": "code",
   "execution_count": null,
   "id": "5a75b235-440d-48c7-8361-d91ba78110fb",
   "metadata": {},
   "outputs": [],
   "source": [
    "Draw.MolsToGridImage([Chem.MolFromSmiles(smile, sanitize=False) for smile in valid_smiles],\n",
    "                     legends=molecules, molsPerRow=4, subImgSize=(300, 300))"
   ]
  }
 ],
 "metadata": {
  "kernelspec": {
   "display_name": "Python 3 (ipykernel)",
   "language": "python",
   "name": "python3"
  },
  "language_info": {
   "codemirror_mode": {
    "name": "ipython",
    "version": 3
   },
   "file_extension": ".py",
   "mimetype": "text/x-python",
   "name": "python",
   "nbconvert_exporter": "python",
   "pygments_lexer": "ipython3",
   "version": "3.13.5"
  }
 },
 "nbformat": 4,
 "nbformat_minor": 5
}
