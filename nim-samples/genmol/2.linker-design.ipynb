{
 "cells": [
  {
   "cell_type": "markdown",
   "id": "0bf5a336-38b7-482c-b0f7-a9b4737f2655",
   "metadata": {},
   "source": [
    "# Linker Design"
   ]
  },
  {
   "cell_type": "code",
   "execution_count": null,
   "id": "7830f839-21ce-4558-90ab-155c33e20a75",
   "metadata": {},
   "outputs": [],
   "source": [
    "from genmol import GenMol_Generator\n",
    "from utils import Utils\n",
    "\n",
    "from rdkit import Chem\n",
    "from rdkit.Chem import Draw\n",
    "\n",
    "import safe as sf\n",
    "import datamol as dm"
   ]
  },
  {
   "cell_type": "markdown",
   "id": "302647ca-1310-4a2e-9319-e239de1d73cc",
   "metadata": {},
   "source": [
    "## Input Fragments"
   ]
  },
  {
   "cell_type": "code",
   "execution_count": null,
   "id": "daf9da2e-5e68-45b3-b903-6eaa9a222f2a",
   "metadata": {},
   "outputs": [],
   "source": [
    "frag1, frag2 = '[11*]C1(CC#N)CN(S(=O)(=O)CC)C1', '[13*]c1ncnc2[nH]ccc12'\n",
    "\n",
    "Draw.MolsToGridImage([Chem.MolFromSmiles(frag1), Chem.MolFromSmiles(frag2)], \n",
    "                      molsPerRow=2, subImgSize=(240, 150), legends=['Fragment1', 'Fragment2'])"
   ]
  },
  {
   "cell_type": "code",
   "execution_count": null,
   "id": "200227c8-8396-4919-9fb5-049892a16622",
   "metadata": {},
   "outputs": [],
   "source": [
    "smiles_joint = '.'.join([frag1, frag2])"
   ]
  },
  {
   "cell_type": "code",
   "execution_count": null,
   "id": "20ac3c80-0d40-45f5-bf31-402607a1185f",
   "metadata": {},
   "outputs": [],
   "source": [
    "Draw.MolToImage(Chem.MolFromSmiles(smiles_joint))"
   ]
  },
  {
   "cell_type": "markdown",
   "id": "f61018b6-b4a7-4418-bc27-3acefa0bc5bc",
   "metadata": {},
   "source": [
    "## Prepare the generator"
   ]
  },
  {
   "cell_type": "code",
   "execution_count": null,
   "id": "9b6a6ea4-d25b-437f-a75a-e46472061fba",
   "metadata": {},
   "outputs": [],
   "source": [
    "genmol = GenMol_Generator()"
   ]
  },
  {
   "cell_type": "markdown",
   "id": "428df4c1-bcf7-423a-a119-6d7946ceb626",
   "metadata": {},
   "source": [
    "## Method 1: Append a mask at the end"
   ]
  },
  {
   "cell_type": "code",
   "execution_count": null,
   "id": "5c423d5f-fe92-470d-8ecb-6e44a15f024c",
   "metadata": {},
   "outputs": [],
   "source": [
    "input_text = Utils.smiles2safe(smiles_joint) + '.[*{15-35}]'\n",
    "input_text"
   ]
  },
  {
   "cell_type": "code",
   "execution_count": null,
   "id": "8ea1dee0-80d8-414b-a2e6-7f694a4a3d7d",
   "metadata": {},
   "outputs": [],
   "source": [
    "molecules = genmol.inference(smiles = input_text, temperature = 1.5, noise = 1.0, num_molecules=1000)\n",
    "len(molecules)"
   ]
  },
  {
   "cell_type": "code",
   "execution_count": null,
   "id": "abf263d3-6aab-429f-aed4-2e01ed172bde",
   "metadata": {},
   "outputs": [],
   "source": [
    "Draw.MolsToGridImage([Chem.MolFromSmiles(_['smiles']) for _ in molecules[:12]], \n",
    "                      molsPerRow=3, subImgSize=(300, 180), legends=['QED ' + str(_['score']) for _ in molecules[:12]])"
   ]
  },
  {
   "cell_type": "markdown",
   "id": "0036e9d0-bc5f-4b5f-a789-4b556bf47027",
   "metadata": {},
   "source": [
    "## Method 2: Insert a mask in the middle"
   ]
  },
  {
   "cell_type": "code",
   "execution_count": null,
   "id": "9e9842b4-382d-4fc2-9ff6-f29cb9f9328c",
   "metadata": {},
   "outputs": [],
   "source": [
    "input_text = Utils.smiles2safe(smiles_joint).split('.')\n",
    "input_text"
   ]
  },
  {
   "cell_type": "code",
   "execution_count": null,
   "id": "d791fdb4-7ea3-4bab-acaf-1f2171d767cf",
   "metadata": {},
   "outputs": [],
   "source": [
    "input_text = '.'.join(input_text[:2]) + '.[*{5-15}].' + '.'.join(input_text[2:])\n",
    "input_text"
   ]
  },
  {
   "cell_type": "code",
   "execution_count": null,
   "id": "3e724024-23d5-44b4-8fde-a2380f8e4232",
   "metadata": {},
   "outputs": [],
   "source": [
    "molecules = genmol.inference(smiles = input_text, temperature = 1.5, noise = 1.0, num_molecules=1000)\n",
    "len(molecules)"
   ]
  },
  {
   "cell_type": "code",
   "execution_count": null,
   "id": "a573a4fb-b12f-4cfc-b086-f348076b4880",
   "metadata": {},
   "outputs": [],
   "source": [
    "Draw.MolsToGridImage([Chem.MolFromSmiles(_['smiles']) for _ in molecules[:12]], \n",
    "                      molsPerRow=3, subImgSize=(300, 180), legends=['QED ' + str(_['score']) for _ in molecules[:12]])"
   ]
  },
  {
   "cell_type": "markdown",
   "id": "eb2840bb-a553-428c-83d1-e8914eb31e8d",
   "metadata": {},
   "source": [
    "## Method 3: De-Novo + Linking"
   ]
  },
  {
   "cell_type": "markdown",
   "id": "131b7cae-c4c1-4534-ad9c-a18e7738b53e",
   "metadata": {},
   "source": [
    "#### Step 1: Generate random fragments"
   ]
  },
  {
   "cell_type": "code",
   "execution_count": null,
   "id": "4036fdb3-4ead-4ffc-b17f-0280a52f8979",
   "metadata": {},
   "outputs": [],
   "source": [
    "linkers = genmol.inference(smiles = '[*{20-20}]', temperature = 1.5, noise = 1.0, num_molecules=3)\n",
    "linkers = [_['smiles'] for _ in linkers]\n",
    "Draw.MolsToGridImage([Chem.MolFromSmiles(_) for _ in linkers], molsPerRow=3, subImgSize=(240, 180))"
   ]
  },
  {
   "cell_type": "markdown",
   "id": "9c0c81d6-78a0-4fbd-9302-8f8a82934e34",
   "metadata": {},
   "source": [
    "#### Step 2: Enumerate all fragments with two attachment points"
   ]
  },
  {
   "cell_type": "code",
   "execution_count": null,
   "id": "4786a388-d789-495e-b329-5774914c30da",
   "metadata": {},
   "outputs": [],
   "source": [
    "linkers_fragments = []\n",
    "\n",
    "for linker in linkers:\n",
    "    linkers_fragments.extend([_ for _ in Utils.attachable_points(linker) if _.count('*') == 2][:3])\n",
    "\n",
    "Draw.MolsToGridImage([Chem.MolFromSmiles(_) for _ in linkers_fragments], molsPerRow=3, subImgSize=(240, 180))"
   ]
  },
  {
   "cell_type": "markdown",
   "id": "6451a92e-223b-468f-b82f-fb88206fcf2a",
   "metadata": {},
   "source": [
    "#### Step 3: Linking"
   ]
  },
  {
   "cell_type": "code",
   "execution_count": null,
   "id": "7f465893-1771-477c-ae7b-4aed42da99f7",
   "metadata": {},
   "outputs": [],
   "source": [
    "slicer = sf.utils.MolSlicer(require_ring_system=False)\n",
    "molecules = [slicer.link_fragments(linker, frag1, frag2)[0] for linker in linkers_fragments]\n",
    "Draw.MolsToGridImage([Chem.MolFromSmiles(_) for _ in molecules], molsPerRow=3, subImgSize=(240, 180))"
   ]
  },
  {
   "cell_type": "markdown",
   "id": "02c1ca37-9df2-4a4d-b6ea-a6f2fc9f2d23",
   "metadata": {},
   "source": [
    "## Method 4: Motif-Extension + Linking"
   ]
  },
  {
   "cell_type": "markdown",
   "id": "c5708388-9ff6-4cf6-a54f-b8630e71c9d2",
   "metadata": {},
   "source": [
    "#### Step 1: Genreate molecules from Fragment-1\n",
    "\n",
    "**Note:** this example is starting from the fragment 1, but the same method can be started from fragment 2 as well."
   ]
  },
  {
   "cell_type": "code",
   "execution_count": null,
   "id": "ef092f3d-2808-4e08-8a28-222c60d8bb4f",
   "metadata": {},
   "outputs": [],
   "source": [
    "extended = genmol.inference(smiles = Utils.smiles2safe(frag1) + '.[*{40-40}]', temperature = 1.5, noise = 1.0, num_molecules=5)\n",
    "extended = [_['smiles'] for _ in extended]\n",
    "len(extended)"
   ]
  },
  {
   "cell_type": "code",
   "execution_count": null,
   "id": "62d150ae-7ada-4c00-a38c-d65839d8f83a",
   "metadata": {},
   "outputs": [],
   "source": [
    "Draw.MolsToGridImage([Chem.MolFromSmiles(_) for _ in extended], molsPerRow=3, subImgSize=(300, 180))"
   ]
  },
  {
   "cell_type": "markdown",
   "id": "d2986a76-2c84-4af7-9110-33a1c6b807cd",
   "metadata": {},
   "source": [
    "#### Step 2: Cut all generated molecules into three parts: head-linker-tail"
   ]
  },
  {
   "cell_type": "code",
   "execution_count": null,
   "id": "b3057779-7467-45ed-bb6b-9a7803e90a1b",
   "metadata": {},
   "outputs": [],
   "source": [
    "slicer = sf.utils.MolSlicer(require_ring_system=False)\n",
    "sliced = [slicer(_, expected_head = sf.utils.standardize_attach(frag1, standard_attach='')) for _ in extended]\n",
    "sliced = [_ for _ in sliced if _[1] is not None]\n",
    "\n",
    "Draw.MolsToGridImage(sliced[0], molsPerRow=3, subImgSize=(300, 180))"
   ]
  },
  {
   "cell_type": "code",
   "execution_count": null,
   "id": "b319ab21-7a7a-4062-ba9b-c5a488d614ed",
   "metadata": {},
   "outputs": [],
   "source": [
    "linkers = [_[1] for _ in sliced]\n",
    "Draw.MolsToGridImage(linkers, molsPerRow=3, subImgSize=(300, 180))"
   ]
  },
  {
   "cell_type": "markdown",
   "id": "5a9e2ca0-4b4f-463d-abbe-53f8cacf48b6",
   "metadata": {},
   "source": [
    "#### Step 3: Linking"
   ]
  },
  {
   "cell_type": "code",
   "execution_count": null,
   "id": "3a728598-3947-46bf-8c7d-16f8b8e9e3b0",
   "metadata": {},
   "outputs": [],
   "source": [
    "molecules = [slicer.link_fragments(linker, frag1, frag2)[0] for linker in linkers]\n",
    "Draw.MolsToGridImage([Chem.MolFromSmiles(_) for _ in molecules], molsPerRow=3, subImgSize=(300, 180))"
   ]
  }
 ],
 "metadata": {
  "kernelspec": {
   "display_name": "Python 3 (ipykernel)",
   "language": "python",
   "name": "python3"
  },
  "language_info": {
   "codemirror_mode": {
    "name": "ipython",
    "version": 3
   },
   "file_extension": ".py",
   "mimetype": "text/x-python",
   "name": "python",
   "nbconvert_exporter": "python",
   "pygments_lexer": "ipython3",
   "version": "3.13.5"
  }
 },
 "nbformat": 4,
 "nbformat_minor": 5
}
